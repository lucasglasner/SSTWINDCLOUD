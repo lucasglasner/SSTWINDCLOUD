{
 "cells": [
  {
   "cell_type": "markdown",
   "metadata": {},
   "source": [
    "## Aca realizaré la descarga de las imagenes GOES"
   ]
  },
  {
   "cell_type": "code",
   "execution_count": 85,
   "metadata": {},
   "outputs": [],
   "source": [
    "import GOES\n",
    "import pyproj as pyproj\n",
    "from pyresample import utils\n",
    "from pyresample.geometry import SwathDefinition\n",
    "from pyresample.kd_tree import resample_nearest\n",
    "\n",
    "from goes2go.data import goes_latest, goes_nearesttime, goes_timerange\n",
    "import xarray as xr\n",
    "import matplotlib.pyplot as plt\n",
    "import matplotlib.colors as mcolors\n",
    "import cartopy.crs as ccrs\n",
    "import numpy as np\n",
    "import cartopy.feature as cf\n",
    "from glob import glob"
   ]
  },
  {
   "cell_type": "code",
   "execution_count": 62,
   "metadata": {},
   "outputs": [
    {
     "name": "stdout",
     "output_type": "stream",
     "text": [
      "Files:\n",
      "  OR_ABI-L2-ACMF-M6_G16_s20221120T1800.nc 100% 24.1MB 22s\n"
     ]
    }
   ],
   "source": [
    "#Download images with GOES package\n",
    "files = GOES.download(Satellite='goes16', Product='ABI-L2-ACMF', DateTimeIni=\"20221120-180000\", DateTimeFin=\"20221120-181000\",\n",
    "                      path_out='data/GOES/ABI-L2-ACMF/', rename_fmt='%Y%m%dT%H%M')"
   ]
  },
  {
   "cell_type": "code",
   "execution_count": 84,
   "metadata": {},
   "outputs": [
    {
     "name": "stdout",
     "output_type": "stream",
     "text": [
      "data/GOES/ABI-L2-ACMF/OR_ABI-L2-ACMF-M6_G16_s20221120T1800.nc\n"
     ]
    },
    {
     "ename": "AttributeError",
     "evalue": "NetCDF: Attribute not found",
     "output_type": "error",
     "traceback": [
      "\u001b[0;31m---------------------------------------------------------------------------\u001b[0m",
      "\u001b[0;31mAttributeError\u001b[0m                            Traceback (most recent call last)",
      "Cell \u001b[0;32mIn[84], line 18\u001b[0m\n\u001b[1;32m     16\u001b[0m ds                 \u001b[39m=\u001b[39m GOES\u001b[39m.\u001b[39mopen_dataset(f)\n\u001b[1;32m     17\u001b[0m domain             \u001b[39m=\u001b[39m [\u001b[39m-\u001b[39m\u001b[39m90\u001b[39m,\u001b[39m-\u001b[39m\u001b[39m65\u001b[39m,\u001b[39m-\u001b[39m\u001b[39m50\u001b[39m,\u001b[39m-\u001b[39m\u001b[39m15\u001b[39m]\n\u001b[0;32m---> 18\u001b[0m HT, LonCen, LatCen \u001b[39m=\u001b[39m ds\u001b[39m.\u001b[39;49mimage(\u001b[39m'\u001b[39;49m\u001b[39mCloud_Probabilities\u001b[39;49m\u001b[39m'\u001b[39;49m, lonlat\u001b[39m=\u001b[39;49m\u001b[39m'\u001b[39;49m\u001b[39mcenter\u001b[39;49m\u001b[39m'\u001b[39;49m, domain\u001b[39m=\u001b[39;49mdomain)\n\u001b[1;32m     20\u001b[0m lon,lat \u001b[39m=\u001b[39m LonCen\u001b[39m.\u001b[39mdata, LatCen\u001b[39m.\u001b[39mdata\n\u001b[1;32m     21\u001b[0m \u001b[39m# lon = np.diff(lon[1:,:])/2+lon[1:,1:]\u001b[39;00m\n\u001b[1;32m     22\u001b[0m \u001b[39m# lat = np.diff(lat[1:,:])/2+lat[1:,1:]\u001b[39;00m\n",
      "File \u001b[0;32m~/miniconda3/envs/goes2go/lib/python3.11/site-packages/GOES/processing/processing_data.py:587\u001b[0m, in \u001b[0;36mopen_dataset.image\u001b[0;34m(self, parameter, lonlat, domain, domain_in_pixels, up_level, nan_mask, delta_index, fmt)\u001b[0m\n\u001b[1;32m    585\u001b[0m \u001b[39melse\u001b[39;00m:\n\u001b[1;32m    586\u001b[0m     dict_Field[\u001b[39m'\u001b[39m\u001b[39mlong_name\u001b[39m\u001b[39m'\u001b[39m] \u001b[39m=\u001b[39m ds\u001b[39m.\u001b[39mvariables[parameter]\u001b[39m.\u001b[39mlong_name\n\u001b[0;32m--> 587\u001b[0m     dict_Field[\u001b[39m'\u001b[39m\u001b[39mstandard_name\u001b[39m\u001b[39m'\u001b[39m] \u001b[39m=\u001b[39m ds\u001b[39m.\u001b[39;49mvariables[parameter]\u001b[39m.\u001b[39;49mstandard_name\n\u001b[1;32m    588\u001b[0m     dict_Field[\u001b[39m'\u001b[39m\u001b[39munits\u001b[39m\u001b[39m'\u001b[39m] \u001b[39m=\u001b[39m ds\u001b[39m.\u001b[39mvariables[parameter]\u001b[39m.\u001b[39munits\n\u001b[1;32m    589\u001b[0m     Field \u001b[39m=\u001b[39m ds\u001b[39m.\u001b[39mvariables[parameter][Limits[\u001b[39m2\u001b[39m]:Limits[\u001b[39m3\u001b[39m]\u001b[39m+\u001b[39m\u001b[39m1\u001b[39m,Limits[\u001b[39m0\u001b[39m]:Limits[\u001b[39m1\u001b[39m]\u001b[39m+\u001b[39m\u001b[39m1\u001b[39m]\u001b[39m.\u001b[39mastype(dtype\u001b[39m=\u001b[39mfmt)\n",
      "File \u001b[0;32msrc/netCDF4/_netCDF4.pyx:4924\u001b[0m, in \u001b[0;36mnetCDF4._netCDF4.Variable.__getattr__\u001b[0;34m()\u001b[0m\n",
      "File \u001b[0;32msrc/netCDF4/_netCDF4.pyx:4642\u001b[0m, in \u001b[0;36mnetCDF4._netCDF4.Variable.getncattr\u001b[0;34m()\u001b[0m\n",
      "File \u001b[0;32msrc/netCDF4/_netCDF4.pyx:1532\u001b[0m, in \u001b[0;36mnetCDF4._netCDF4._get_att\u001b[0;34m()\u001b[0m\n",
      "File \u001b[0;32msrc/netCDF4/_netCDF4.pyx:2028\u001b[0m, in \u001b[0;36mnetCDF4._netCDF4._ensure_nc_success\u001b[0;34m()\u001b[0m\n",
      "\u001b[0;31mAttributeError\u001b[0m: NetCDF: Attribute not found"
     ]
    }
   ],
   "source": [
    "#Open downloaded image and shrink domain the save image with lat/lon coordinates\n",
    "paths = glob('data/GOES/ABI-L2-ACMF/*2022*.nc')\n",
    "for f in paths:\n",
    "    print(f)\n",
    "    data_raw               = xr.open_dataset(f)\n",
    "    x_attrs = data_raw.x.attrs\n",
    "    y_attrs = data_raw.y.attrs\n",
    "\n",
    "    x_attrs.pop('units')\n",
    "    y_attrs.pop('units')\n",
    "\n",
    "    data_attrs = data_raw.attrs\n",
    "    HT_attrs   = data_raw.BCM.attrs\n",
    "    # del data\n",
    "\n",
    "    ds                 = GOES.open_dataset(f)\n",
    "    domain             = [-90,-65,-50,-15]\n",
    "    HT, LonCen, LatCen = ds.image('Cloud_Probabilities', lonlat='center', domain=domain)\n",
    "\n",
    "    lon,lat = LonCen.data, LatCen.data\n",
    "    # lon = np.diff(lon[1:,:])/2+lon[1:,1:]\n",
    "    # lat = np.diff(lat[1:,:])/2+lat[1:,1:]\n",
    "    lon_attrs = {'units':'degrees_east','long_name':'Longitude of center of pixels','standard_name':'pixel center longitude'}\n",
    "    lat_attrs = {'units':'degrees_north','long_name':'Latitude of center of pixels','standard_name':'pixel center latitude'}\n",
    "\n",
    "    data = xr.Dataset(coords={'y':np.arange(lat.shape[0]), 'x':np.arange(lon.shape[1])})\n",
    "    data.coords['lat'] = (('y','x'), lat)\n",
    "    data.coords['lon'] = (('y','x'), lon)\n",
    "    data['HT'] = (('y','x'), HT.data)\n",
    "\n",
    "    data.lon.attrs = lon_attrs\n",
    "    data.lat.attrs = lat_attrs\n",
    "    data.x.attrs = x_attrs\n",
    "    data.y.attrs = y_attrs\n",
    "    data.attrs = data_attrs\n",
    "    data.coords['time'] = data_raw.t.values\n",
    "    data = data.expand_dims('time')\n",
    "    # data.to_netcdf('data/GOES/ABI-L2-ACHAF/processed/'+f.split(\"/\")[-1])"
   ]
  }
 ],
 "metadata": {
  "kernelspec": {
   "display_name": "goes2go",
   "language": "python",
   "name": "python3"
  },
  "language_info": {
   "codemirror_mode": {
    "name": "ipython",
    "version": 3
   },
   "file_extension": ".py",
   "mimetype": "text/x-python",
   "name": "python",
   "nbconvert_exporter": "python",
   "pygments_lexer": "ipython3",
   "version": "3.11.0"
  },
  "orig_nbformat": 4,
  "vscode": {
   "interpreter": {
    "hash": "ea7bec7741fcd1f8346d6d6029d9ab0eeb8531474e504a8f9651c9b01bb986be"
   }
  }
 },
 "nbformat": 4,
 "nbformat_minor": 2
}
